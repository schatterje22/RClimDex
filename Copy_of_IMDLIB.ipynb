{
  "nbformat": 4,
  "nbformat_minor": 0,
  "metadata": {
    "colab": {
      "provenance": [],
      "include_colab_link": true
    },
    "kernelspec": {
      "name": "python3",
      "display_name": "Python 3"
    },
    "language_info": {
      "name": "python"
    }
  },
  "cells": [
    {
      "cell_type": "markdown",
      "metadata": {
        "id": "view-in-github",
        "colab_type": "text"
      },
      "source": [
        "<a href=\"https://colab.research.google.com/github/schatterje22/RClimDex/blob/master/Copy_of_IMDLIB.ipynb\" target=\"_parent\"><img src=\"https://colab.research.google.com/assets/colab-badge.svg\" alt=\"Open In Colab\"/></a>"
      ]
    },
    {
      "cell_type": "markdown",
      "source": [
        "**Script to download IMD Gridded data into CSV file**\n"
      ],
      "metadata": {
        "id": "3lKIfkwzQSFm"
      }
    },
    {
      "cell_type": "code",
      "source": [
        "from google.colab import drive\n",
        "drive.mount('/content/drive')"
      ],
      "metadata": {
        "id": "8ymCHzEiP4L_",
        "outputId": "05edb31c-889b-4f54-af36-36cf0bf799eb",
        "colab": {
          "base_uri": "https://localhost:8080/"
        }
      },
      "execution_count": null,
      "outputs": [
        {
          "output_type": "stream",
          "name": "stdout",
          "text": [
            "Mounted at /content/drive\n"
          ]
        }
      ]
    },
    {
      "cell_type": "code",
      "source": [
        "pip install imdlib"
      ],
      "metadata": {
        "id": "EGD59HRi9Qls",
        "outputId": "79a3fdd9-f8da-4458-bdbf-19722f6e1605",
        "colab": {
          "base_uri": "https://localhost:8080/"
        }
      },
      "execution_count": null,
      "outputs": [
        {
          "output_type": "stream",
          "name": "stdout",
          "text": [
            "Collecting imdlib\n",
            "  Downloading imdlib-0.1.19-py3-none-any.whl (20 kB)\n",
            "Requirement already satisfied: matplotlib in /usr/local/lib/python3.10/dist-packages (from imdlib) (3.7.1)\n",
            "Requirement already satisfied: numpy in /usr/local/lib/python3.10/dist-packages (from imdlib) (1.23.5)\n",
            "Requirement already satisfied: pandas in /usr/local/lib/python3.10/dist-packages (from imdlib) (1.5.3)\n",
            "Requirement already satisfied: six in /usr/local/lib/python3.10/dist-packages (from imdlib) (1.16.0)\n",
            "Requirement already satisfied: python-dateutil in /usr/local/lib/python3.10/dist-packages (from imdlib) (2.8.2)\n",
            "Requirement already satisfied: pytz in /usr/local/lib/python3.10/dist-packages (from imdlib) (2023.3.post1)\n",
            "Requirement already satisfied: urllib3 in /usr/local/lib/python3.10/dist-packages (from imdlib) (2.0.7)\n",
            "Requirement already satisfied: scipy in /usr/local/lib/python3.10/dist-packages (from imdlib) (1.11.3)\n",
            "Requirement already satisfied: xarray in /usr/local/lib/python3.10/dist-packages (from imdlib) (2023.7.0)\n",
            "Requirement already satisfied: requests in /usr/local/lib/python3.10/dist-packages (from imdlib) (2.31.0)\n",
            "Requirement already satisfied: contourpy>=1.0.1 in /usr/local/lib/python3.10/dist-packages (from matplotlib->imdlib) (1.1.1)\n",
            "Requirement already satisfied: cycler>=0.10 in /usr/local/lib/python3.10/dist-packages (from matplotlib->imdlib) (0.12.1)\n",
            "Requirement already satisfied: fonttools>=4.22.0 in /usr/local/lib/python3.10/dist-packages (from matplotlib->imdlib) (4.43.1)\n",
            "Requirement already satisfied: kiwisolver>=1.0.1 in /usr/local/lib/python3.10/dist-packages (from matplotlib->imdlib) (1.4.5)\n",
            "Requirement already satisfied: packaging>=20.0 in /usr/local/lib/python3.10/dist-packages (from matplotlib->imdlib) (23.2)\n",
            "Requirement already satisfied: pillow>=6.2.0 in /usr/local/lib/python3.10/dist-packages (from matplotlib->imdlib) (9.4.0)\n",
            "Requirement already satisfied: pyparsing>=2.3.1 in /usr/local/lib/python3.10/dist-packages (from matplotlib->imdlib) (3.1.1)\n",
            "Requirement already satisfied: charset-normalizer<4,>=2 in /usr/local/lib/python3.10/dist-packages (from requests->imdlib) (3.3.0)\n",
            "Requirement already satisfied: idna<4,>=2.5 in /usr/local/lib/python3.10/dist-packages (from requests->imdlib) (3.4)\n",
            "Requirement already satisfied: certifi>=2017.4.17 in /usr/local/lib/python3.10/dist-packages (from requests->imdlib) (2023.7.22)\n",
            "Installing collected packages: imdlib\n",
            "Successfully installed imdlib-0.1.19\n"
          ]
        }
      ]
    },
    {
      "cell_type": "code",
      "execution_count": null,
      "metadata": {
        "id": "xnxDLwE99JvY",
        "outputId": "ea71a38b-b35d-4057-eb5d-c085f0f7bf94",
        "colab": {
          "base_uri": "https://localhost:8080/"
        }
      },
      "outputs": [
        {
          "output_type": "stream",
          "name": "stdout",
          "text": [
            "Downloading: mintemp for year 1985\n",
            "Downloading: mintemp for year 1986\n",
            "Downloading: mintemp for year 1987\n",
            "Downloading: mintemp for year 1988\n",
            "Downloading: mintemp for year 1989\n",
            "Downloading: mintemp for year 1990\n",
            "Downloading: mintemp for year 1991\n",
            "Downloading: mintemp for year 1992\n",
            "Downloading: mintemp for year 1993\n",
            "Downloading: mintemp for year 1994\n",
            "Downloading: mintemp for year 1995\n",
            "Downloading: mintemp for year 1996\n",
            "Downloading: mintemp for year 1997\n",
            "Downloading: mintemp for year 1998\n",
            "Downloading: mintemp for year 1999\n",
            "Downloading: mintemp for year 2000\n",
            "Downloading: mintemp for year 2001\n",
            "Downloading: mintemp for year 2002\n",
            "Downloading: mintemp for year 2003\n",
            "Downloading: mintemp for year 2004\n",
            "Downloading: mintemp for year 2005\n",
            "Downloading: mintemp for year 2006\n",
            "Downloading: mintemp for year 2007\n",
            "Downloading: mintemp for year 2008\n",
            "Downloading: mintemp for year 2009\n",
            "Downloading: mintemp for year 2010\n",
            "Downloading: mintemp for year 2011\n",
            "Downloading: mintemp for year 2012\n",
            "Downloading: mintemp for year 2013\n",
            "Downloading: mintemp for year 2014\n",
            "Downloading: mintemp for year 2015\n",
            "Downloading: mintemp for year 2016\n",
            "Downloading: mintemp for year 2017\n",
            "Downloading: mintemp for year 2018\n",
            "Downloading: mintemp for year 2019\n",
            "Downloading: mintemp for year 2020\n",
            "Downloading: mintemp for year 2021\n",
            "Downloading: mintemp for year 2022\n",
            "Download Successful !!!\n",
            "<xarray.Dataset>\n",
            "Dimensions:  (time: 13879, lat: 31, lon: 31)\n",
            "Coordinates:\n",
            "  * lat      (lat) float64 7.5 8.5 9.5 10.5 11.5 ... 33.5 34.5 35.5 36.5 37.5\n",
            "  * lon      (lon) float64 67.5 68.5 69.5 70.5 71.5 ... 93.5 94.5 95.5 96.5 97.5\n",
            "  * time     (time) datetime64[ns] 1985-01-01 1985-01-02 ... 2022-12-31\n",
            "Data variables:\n",
            "    tmin     (time, lat, lon) float64 99.9 99.9 99.9 99.9 ... 99.9 99.9 99.9\n",
            "Attributes:\n",
            "    Conventions:  CF-1.7\n",
            "    title:        IMD gridded data\n",
            "    source:       https://imdpune.gov.in/\n",
            "    history:      2023-10-23 11:57:55.861207 Python\n",
            "    references:   \n",
            "    comment:      \n",
            "    crs:          epsg:4326\n"
          ]
        }
      ],
      "source": [
        "import imdlib as imd\n",
        "\n",
        "path = \"/content/drive/MyDrive/Colab Notebooks\"\n",
        "\n",
        "start_yr = 1985\n",
        "end_yr = 2022\n",
        "variable = 'tmin' # other options are ('tmin'/ 'tmax', 'rain')\n",
        "\n",
        "imd.get_data(variable, start_yr, end_yr, fn_format='yearwise', file_dir=path)\n",
        "data = imd.open_data(variable, start_yr, end_yr,'yearwise', path)\n",
        "ds = data.get_xarray()\n",
        "print(ds)\n",
        "\n",
        "\n",
        "\n",
        "#lat = 20.03 #lattitude of point\n",
        "#lon = 77.23 #longitude of point\n",
        "#data.to_csv('data.csv', lat, lon, path)"
      ]
    },
    {
      "cell_type": "code",
      "source": [
        "# Save CSV files for multiple points\n",
        "\n",
        "# Provide lat and long in a list\n",
        "latLong = [[20.7167, 83.4833],[21.3333, 83.6167],[21.495,86.9427],[20.4625,85.883],\n",
        " [21.5333,84.7333],[20.85,85.1],[20.8333,84.3167],[21.0583,86.4958],[20.6667,85.6],\n",
        "  [19.3843,85.0564],[19.1912,84.1857],[21.8602,84.0155],[20.85,86.3333],[20.1976,86.3377],\n",
        "   [20.1856,85.6273],[21.6333,85.5833],[20.1033,83.1649],[20.1342,84.0167],[18.8135,82.7123],\n",
        "    [20.5,86.4167],[18.3635,81.8953],[21.9254,86.736],[19.2281,82.547],[20.8167,82.5333],\n",
        "     [20.1167,85.1],[19.8134,85.8315],[19.1667,83.4167],[21.4662,83.9752],[20.9338,83.8049],\n",
        "      [22.1167,84.0333]]\n",
        "\n",
        "for points in latLong:\n",
        "  lat = points[0]\n",
        "  lon = points[1]\n",
        "\n",
        "  data.to_csv('test.csv', lat, lon, path)\n",
        "  print (\"data save for \",points)"
      ],
      "metadata": {
        "id": "kygArbTkBPMT",
        "outputId": "2026e0fd-5fd8-4a04-b45a-898608a78fc1",
        "colab": {
          "base_uri": "https://localhost:8080/"
        }
      },
      "execution_count": null,
      "outputs": [
        {
          "output_type": "stream",
          "name": "stdout",
          "text": [
            "data save for  [20.7167, 83.4833]\n",
            "data save for  [21.3333, 83.6167]\n",
            "data save for  [21.495, 86.9427]\n",
            "data save for  [20.4625, 85.883]\n",
            "data save for  [21.5333, 84.7333]\n",
            "data save for  [20.85, 85.1]\n",
            "data save for  [20.8333, 84.3167]\n",
            "data save for  [21.0583, 86.4958]\n",
            "data save for  [20.6667, 85.6]\n",
            "data save for  [19.3843, 85.0564]\n",
            "data save for  [19.1912, 84.1857]\n",
            "data save for  [21.8602, 84.0155]\n",
            "data save for  [20.85, 86.3333]\n",
            "data save for  [20.1976, 86.3377]\n",
            "data save for  [20.1856, 85.6273]\n",
            "data save for  [21.6333, 85.5833]\n",
            "data save for  [20.1033, 83.1649]\n",
            "data save for  [20.1342, 84.0167]\n",
            "data save for  [18.8135, 82.7123]\n",
            "data save for  [20.5, 86.4167]\n",
            "data save for  [18.3635, 81.8953]\n",
            "data save for  [21.9254, 86.736]\n",
            "data save for  [19.2281, 82.547]\n",
            "data save for  [20.8167, 82.5333]\n",
            "data save for  [20.1167, 85.1]\n",
            "data save for  [19.8134, 85.8315]\n",
            "data save for  [19.1667, 83.4167]\n",
            "data save for  [21.4662, 83.9752]\n",
            "data save for  [20.9338, 83.8049]\n",
            "data save for  [22.1167, 84.0333]\n"
          ]
        }
      ]
    }
  ]
}